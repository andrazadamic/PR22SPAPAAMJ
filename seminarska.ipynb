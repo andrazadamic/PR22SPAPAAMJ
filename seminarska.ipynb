{
 "cells": [
  {
   "attachments": {},
   "cell_type": "markdown",
   "metadata": {},
   "source": [
    "# Stopnja kriminala v Sloveniji po letih v korelaciji z ostalimi podatki\n",
    "\n",
    "Podatkovno Rudarjenje, 2022/23\n",
    "\n",
    "**Sašo Primožič, Ambrož Perovšek, Andraž Adamič, Matija Ječnik**"
   ]
  },
  {
   "cell_type": "code",
   "execution_count": 19,
   "metadata": {
    "ExecuteTime": {
     "start_time": "2023-04-18T07:39:18.467244Z",
     "end_time": "2023-04-18T07:39:18.484805Z"
    }
   },
   "outputs": [],
   "source": [
    "import pandas as pd"
   ]
  },
  {
   "cell_type": "code",
   "execution_count": 33,
   "metadata": {
    "ExecuteTime": {
     "start_time": "2023-04-18T07:54:48.552947Z",
     "end_time": "2023-04-18T07:54:58.518591Z"
    }
   },
   "outputs": [
    {
     "name": "stderr",
     "output_type": "stream",
     "text": [
      "C:\\Users\\Uporabnik\\AppData\\Local\\Temp\\ipykernel_17156\\2862841286.py:4: DtypeWarning: Columns (14) have mixed types. Specify dtype option on import or set low_memory=False.\n",
      "  kd2013 = pd.read_csv(\"podatki/kd2013.csv\", delimiter=\";\", encoding=\"ANSI\")\n",
      "C:\\Users\\Uporabnik\\AppData\\Local\\Temp\\ipykernel_17156\\2862841286.py:7: DtypeWarning: Columns (14,18) have mixed types. Specify dtype option on import or set low_memory=False.\n",
      "  kd2016 = pd.read_csv(\"podatki/kd2016.csv\", delimiter=\";\", encoding=\"ANSI\")\n"
     ]
    }
   ],
   "source": [
    "kd2010 = pd.read_csv(\"podatki/kd2010.csv\", delimiter=\";\", encoding=\"ANSI\")\n",
    "kd2011 = pd.read_csv(\"podatki/kd2011.csv\", delimiter=\";\", encoding=\"ANSI\")\n",
    "kd2012 = pd.read_csv(\"podatki/kd2012.csv\", delimiter=\";\", encoding=\"ANSI\")\n",
    "kd2013 = pd.read_csv(\"podatki/kd2013.csv\", delimiter=\";\", encoding=\"ANSI\")\n",
    "kd2014 = pd.read_csv(\"podatki/kd2014.csv\", delimiter=\";\", encoding=\"ANSI\")\n",
    "kd2015 = pd.read_csv(\"podatki/kd2015.csv\", delimiter=\";\", encoding=\"ANSI\")\n",
    "kd2016 = pd.read_csv(\"podatki/kd2016.csv\", delimiter=\";\", encoding=\"ANSI\")\n",
    "kd2017 = pd.read_csv(\"podatki/kd2017.csv\", delimiter=\";\", encoding=\"ANSI\")\n",
    "kd2018 = pd.read_csv(\"podatki/kd2018.csv\", delimiter=\";\", encoding=\"ANSI\")\n",
    "kd2019 = pd.read_csv(\"podatki/kd2019.csv\", delimiter=\";\", encoding=\"ANSI\")\n",
    "kd = pd.concat([kd2010, kd2011, kd2012, kd2013, kd2014, kd2015, kd2016, kd2017, kd2018, kd2019], ignore_index=True)\n",
    "kd = kd.drop(\"ZaporednaStevilkaKD\", axis=\"columns\")"
   ]
  },
  {
   "cell_type": "code",
   "execution_count": 34,
   "metadata": {
    "ExecuteTime": {
     "start_time": "2023-04-18T07:56:31.239729Z",
     "end_time": "2023-04-18T07:56:31.486678Z"
    }
   },
   "outputs": [
    {
     "name": "stdout",
     "output_type": "stream",
     "text": [
      "1393303\n",
      "                  MesecStoritve  UraStoritve DanVTednu    PUStoritveKD   \n",
      "1 1970-01-01 00:00:00.000000001  00:00-00:59   ČETRTEK    PU LJUBLJANA  \\\n",
      "2 1970-01-01 00:00:00.000000001  15:00-15:59   NEDELJA    PU LJUBLJANA   \n",
      "3 1970-01-01 00:00:00.000000001  00:00-00:59    SOBOTA        PU CELJE   \n",
      "4 1970-01-01 00:00:00.000000001  04:00-04:59   NEDELJA  PU NOVA GORICA   \n",
      "5 1970-01-01 00:00:00.000000001  19:00-19:59   ČETRTEK   PU NOVO MESTO   \n",
      "6 1970-01-01 00:00:00.000000001  12:00-12:59   ČETRTEK      PU MARIBOR   \n",
      "7 1970-01-01 00:00:00.000000001  12:00-12:59   ČETRTEK      PU MARIBOR   \n",
      "8 1970-01-01 00:00:00.000000001  00:00-00:59    SOBOTA      PU MARIBOR   \n",
      "9 1970-01-01 00:00:00.000000001  03:00-03:59     PETEK    PU LJUBLJANA   \n",
      "\n",
      "  Povratnik                                             OpisKD   \n",
      "1        DA  KZ08/141-/1// - KRŠITEV NEDOTAKLJIVOSTI STANOV...  \\\n",
      "2        NE           KZ08/220-/1// - POŠKODOVANJE TUJE STVARI   \n",
      "3        NE                  KZ08/205-/1/1 S/ - VELIKA TATVINA   \n",
      "4        NE                  KZ08/205-/1/1 S/ - VELIKA TATVINA   \n",
      "5        NE                           KZ08/204-/1/S/ - TATVINA   \n",
      "6        NE                            KZ08/135-/1// - GROŽNJA   \n",
      "7        NE                            KZ08/135-/1// - GROŽNJA   \n",
      "8        NE                           KZ08/204-/1/S/ - TATVINA   \n",
      "9        NE                  KZ08/205-/1/1 S/ - VELIKA TATVINA   \n",
      "\n",
      "                                 PoglavjeKD GospodarskiKriminal   \n",
      "1  KD ZOPER ČLOVEKOVE PRAVICE IN SVOBOŠČINE             SPLOŠNA  \\\n",
      "2                       KD ZOPER PREMOŽENJE             SPLOŠNA   \n",
      "3                       KD ZOPER PREMOŽENJE             SPLOŠNA   \n",
      "4                       KD ZOPER PREMOŽENJE             SPLOŠNA   \n",
      "5                       KD ZOPER PREMOŽENJE             SPLOŠNA   \n",
      "6  KD ZOPER ČLOVEKOVE PRAVICE IN SVOBOŠČINE             SPLOŠNA   \n",
      "7  KD ZOPER ČLOVEKOVE PRAVICE IN SVOBOŠČINE             SPLOŠNA   \n",
      "8                       KD ZOPER PREMOŽENJE             SPLOŠNA   \n",
      "9                       KD ZOPER PREMOŽENJE             SPLOŠNA   \n",
      "\n",
      "  OrganiziranKriminal MladoletniskaKriminaliteta  ...   \n",
      "1                                                 ...  \\\n",
      "2                                                 ...   \n",
      "3                                                 ...   \n",
      "4                                                 ...   \n",
      "5                                                 ...   \n",
      "6                                                 ...   \n",
      "7                                                 ...   \n",
      "8                                                 ...   \n",
      "9                                                 ...   \n",
      "\n",
      "  ZaporednaStevilkaOsebeVKD          VrstaOsebe StarostniRazred          Spol   \n",
      "1                10286001.0               ŽRTEV           54-64         MOŠKI  \\\n",
      "2                17004001.0               ŽRTEV           18-24         MOŠKI   \n",
      "3                17005001.0               ŽRTEV           54-64         MOŠKI   \n",
      "4                17006001.0               ŽRTEV    PRAVNA OSEBA  PRAVNA OSEBA   \n",
      "5                17008001.0               ŽRTEV           34-44         MOŠKI   \n",
      "6                10281002.0  OVADENI OSUMLJENEC           24-34         MOŠKI   \n",
      "7                10281001.0               ŽRTEV           54-64         MOŠKI   \n",
      "8                17009001.0               ŽRTEV           16-18        ŽENSKI   \n",
      "9                10279001.0               ŽRTEV           24-34         MOŠKI   \n",
      "\n",
      "  Drzavljanstvo       Poskodba VplivAlkohola VplivMamil OrganiziranaZdruzba   \n",
      "1     SLOVENSKO  BREZ POŠKODBE            NN         NN                  NE  \\\n",
      "2     SLOVENSKO  BREZ POŠKODBE            NN         NN                  NE   \n",
      "3     SLOVENSKO  BREZ POŠKODBE            NN         NN                  NE   \n",
      "4     SLOVENSKO            NaN            NN         NN                  NE   \n",
      "5     SLOVENSKO  BREZ POŠKODBE            NN         NN                  NE   \n",
      "6     SLOVENSKO            NaN            NE         NE                  NE   \n",
      "7     SLOVENSKO  BREZ POŠKODBE            NN         NN                  NE   \n",
      "8     SLOVENSKO  BREZ POŠKODBE            NN         NN                  NE   \n",
      "9     SLOVENSKO  BREZ POŠKODBE            NN         NN                  NE   \n",
      "\n",
      "                Skoda  \n",
      "1                BREZ  \n",
      "2     100 - 1.000 EUR  \n",
      "3          DO 100 EUR  \n",
      "4                BREZ  \n",
      "5     100 - 1.000 EUR  \n",
      "6                BREZ  \n",
      "7                BREZ  \n",
      "8     100 - 1.000 EUR  \n",
      "9  1.000 - 10.000 EUR  \n",
      "\n",
      "[9 rows x 32 columns]\n"
     ]
    }
   ],
   "source": [
    "print(len(kd))\n",
    "kd2010['MesecStoritve'] = pd.to_datetime(kd2010['MesecStoritve'], format='mixed')\n",
    "kd2010 = kd2010.drop(\"ZaporednaStevilkaKD\", axis=\"columns\")\n",
    "\n",
    "kd2010.sort_values(by='MesecStoritve', inplace=True)\n",
    "kd2010.reset_index(drop=True, inplace=True)\n",
    "\n",
    "print(kd2010[1:10])\n"
   ]
  },
  {
   "cell_type": "code",
   "execution_count": 35,
   "outputs": [
    {
     "name": "stdout",
     "output_type": "stream",
     "text": [
      "                  MesecStoritve  UraStoritve   DanVTednu  PUStoritveKD   \n",
      "1 1970-01-01 00:00:00.000000001  19:00-19:59  PONEDELJEK  PU LJUBLJANA  \\\n",
      "2 1970-01-01 00:00:00.000000001  19:00-19:59  PONEDELJEK  PU LJUBLJANA   \n",
      "3 1970-01-01 00:00:00.000000001  19:00-19:59  PONEDELJEK      PU KRANJ   \n",
      "4 1970-01-01 00:00:00.000000001  19:00-19:59  PONEDELJEK      PU KRANJ   \n",
      "5 1970-01-01 00:00:00.000000001  20:00-20:59       TOREK  PU LJUBLJANA   \n",
      "6 1970-01-01 00:00:00.000000001  11:00-11:59  PONEDELJEK    PU MARIBOR   \n",
      "7 1970-01-01 00:00:00.000000001  23:00-23:59  PONEDELJEK      PU KRANJ   \n",
      "8 1970-01-01 00:00:00.000000001  00:00-00:59       PETEK      PU KOPER   \n",
      "9 1970-01-01 00:00:00.000000001  00:00-00:59       PETEK      PU KOPER   \n",
      "\n",
      "  Povratnik                                        OpisKD   \n",
      "1        DA                      KZ12/204*/2/S/ - TATVINA  \\\n",
      "2        DA                      KZ12/204*/2/S/ - TATVINA   \n",
      "3        NE             KZ12/205*/1/1 S/ - VELIKA TATVINA   \n",
      "4        NE             KZ12/205*/1/1 S/ - VELIKA TATVINA   \n",
      "5        NE                      KZ12/204*/1/S/ - TATVINA   \n",
      "6        NE      KZ12/220*/1// - POŠKODOVANJE TUJE STVARI   \n",
      "7        NE      KZ12/220*/1// - POŠKODOVANJE TUJE STVARI   \n",
      "8        DA  KZ08/133-/1// - PROTIPRAVEN ODVZEM PROSTOSTI   \n",
      "9        DA  KZ08/133-/1// - PROTIPRAVEN ODVZEM PROSTOSTI   \n",
      "\n",
      "                                 PoglavjeKD GospodarskiKriminal   \n",
      "1                       KD ZOPER PREMOŽENJE             SPLOŠNA  \\\n",
      "2                       KD ZOPER PREMOŽENJE             SPLOŠNA   \n",
      "3                       KD ZOPER PREMOŽENJE             SPLOŠNA   \n",
      "4                       KD ZOPER PREMOŽENJE             SPLOŠNA   \n",
      "5                       KD ZOPER PREMOŽENJE             SPLOŠNA   \n",
      "6                       KD ZOPER PREMOŽENJE             SPLOŠNA   \n",
      "7                       KD ZOPER PREMOŽENJE             SPLOŠNA   \n",
      "8  KD ZOPER ČLOVEKOVE PRAVICE IN SVOBOŠČINE             SPLOŠNA   \n",
      "9  KD ZOPER ČLOVEKOVE PRAVICE IN SVOBOŠČINE             SPLOŠNA   \n",
      "\n",
      "  OrganiziranKriminal MladoletniskaKriminaliteta  ...   \n",
      "1                                                 ...  \\\n",
      "2                                                 ...   \n",
      "3                                                 ...   \n",
      "4                                                 ...   \n",
      "5                                                 ...   \n",
      "6                                                 ...   \n",
      "7                                                 ...   \n",
      "8                                                 ...   \n",
      "9                                                 ...   \n",
      "\n",
      "  ZaporednaStevilkaOsebeVKD                    VrstaOsebe StarostniRazred   \n",
      "1                33547002.0                         ŽRTEV           18-24  \\\n",
      "2                33547001.0            OVADENI OSUMLJENEC           24-34   \n",
      "3                13754001.0                         ŽRTEV           54-64   \n",
      "4                13754002.0                         ŽRTEV          NAD 64   \n",
      "5                13755001.0                         ŽRTEV           54-64   \n",
      "6                13756001.0                         ŽRTEV    PRAVNA OSEBA   \n",
      "7                13757001.0                         ŽRTEV           34-44   \n",
      "8                50553003.0                         ŽRTEV           14-16   \n",
      "9                50553002.0  NEOVADENI OSUMLJENEC (ARHIV)           24-34   \n",
      "\n",
      "           Spol Drzavljanstvo       Poskodba VplivAlkohola VplivMamil   \n",
      "1         MOŠKI     SLOVENSKO  BREZ POŠKODBE            NN         NN  \\\n",
      "2         MOŠKI     SLOVENSKO            NaN            NE         NE   \n",
      "3        ŽENSKI     SLOVENSKO  BREZ POŠKODBE            NN         NN   \n",
      "4         MOŠKI     SLOVENSKO  BREZ POŠKODBE            NN         NN   \n",
      "5        ŽENSKI     SLOVENSKO  BREZ POŠKODBE            NN         NN   \n",
      "6  PRAVNA OSEBA     SLOVENSKO            NaN            NN         NN   \n",
      "7         MOŠKI     SLOVENSKO  BREZ POŠKODBE            NN         NN   \n",
      "8        ŽENSKI     SLOVENSKO  BREZ POŠKODBE            NN         NN   \n",
      "9         MOŠKI     SLOVENSKO            NaN            NN         NN   \n",
      "\n",
      "  OrganiziranaZdruzba               Skoda  \n",
      "1                  NE          DO 100 EUR  \n",
      "2                  NE                BREZ  \n",
      "3                  NE     100 - 1.000 EUR  \n",
      "4                  NE     100 - 1.000 EUR  \n",
      "5                  NE          DO 100 EUR  \n",
      "6                  NE  1.000 - 10.000 EUR  \n",
      "7                  NE          DO 100 EUR  \n",
      "8                  NE                BREZ  \n",
      "9                  NE                BREZ  \n",
      "\n",
      "[9 rows x 32 columns]\n"
     ]
    }
   ],
   "source": [
    "kd['MesecStoritve'] = pd.to_datetime(kd['MesecStoritve'], format='mixed')\n",
    "\n",
    "kd.sort_values(by='MesecStoritve', inplace=True)\n",
    "kd.reset_index(drop=True, inplace=True)\n",
    "\n",
    "print(kd[1:10])"
   ],
   "metadata": {
    "collapsed": false,
    "ExecuteTime": {
     "start_time": "2023-04-18T07:56:49.828526Z",
     "end_time": "2023-04-18T07:56:50.831126Z"
    }
   }
  }
 ],
 "metadata": {
  "kernelspec": {
   "display_name": "Python 3",
   "language": "python",
   "name": "python3"
  },
  "language_info": {
   "codemirror_mode": {
    "name": "ipython",
    "version": 3
   },
   "file_extension": ".py",
   "mimetype": "text/x-python",
   "name": "python",
   "nbconvert_exporter": "python",
   "pygments_lexer": "ipython3",
   "version": "3.11.0"
  },
  "orig_nbformat": 4,
  "vscode": {
   "interpreter": {
    "hash": "e4f7dc6f9bcf4234741c94f1608f9e2d1c0c12564f781ec46f7167eb217eb86e"
   }
  }
 },
 "nbformat": 4,
 "nbformat_minor": 2
}
