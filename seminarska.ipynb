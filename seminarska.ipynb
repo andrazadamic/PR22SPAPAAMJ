{
 "cells": [
  {
   "attachments": {},
   "cell_type": "markdown",
   "metadata": {},
   "source": [
    "# Stopnja kriminala v Sloveniji po letih v korelaciji z ostalimi podatki\n",
    "\n",
    "Podatkovno Rudarjenje, 2022/23\n",
    "\n",
    "**Sašo Primožič, Ambrož Preovšek, Andraž Adamič, Matija Ječnik**"
   ]
  },
  {
   "cell_type": "code",
   "execution_count": null,
   "metadata": {},
   "outputs": [],
   "source": []
  }
 ],
 "metadata": {
  "language_info": {
   "name": "python"
  },
  "orig_nbformat": 4
 },
 "nbformat": 4,
 "nbformat_minor": 2
}
