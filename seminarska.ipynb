{
 "cells": [
  {
   "attachments": {},
   "cell_type": "markdown",
   "metadata": {},
   "source": [
    "# Stopnja kriminala v Sloveniji po letih v korelaciji z ostalimi podatki\n",
    "\n",
    "Podatkovno Rudarjenje, 2022/23\n",
    "\n",
    "**Sašo Primožič, Ambrož Preovšek, Andraž Adamič, Matija Ječnik**"
   ]
  },
  {
   "cell_type": "code",
   "execution_count": 3,
   "metadata": {},
   "outputs": [],
   "source": [
    "import pandas as pd"
   ]
  },
  {
   "cell_type": "code",
   "execution_count": 28,
   "metadata": {},
   "outputs": [
    {
     "name": "stderr",
     "output_type": "stream",
     "text": [
      "C:\\Users\\aa8934\\AppData\\Local\\Temp\\ipykernel_15416\\1609954481.py:4: DtypeWarning: Columns (14) have mixed types. Specify dtype option on import or set low_memory=False.\n",
      "  kd2013 = pd.read_csv(\"podatki/kd2013.csv\", delimiter=\";\", encoding=\"ANSI\", parse_dates=True)\n",
      "C:\\Users\\aa8934\\AppData\\Local\\Temp\\ipykernel_15416\\1609954481.py:7: DtypeWarning: Columns (14,18) have mixed types. Specify dtype option on import or set low_memory=False.\n",
      "  kd2016 = pd.read_csv(\"podatki/kd2016.csv\", delimiter=\";\", encoding=\"ANSI\", parse_dates=True)\n"
     ]
    }
   ],
   "source": [
    "kd2010 = pd.read_csv(\"podatki/kd2010.csv\", delimiter=\";\", encoding=\"ANSI\")\n",
    "kd2011 = pd.read_csv(\"podatki/kd2011.csv\", delimiter=\";\", encoding=\"ANSI\")\n",
    "kd2012 = pd.read_csv(\"podatki/kd2012.csv\", delimiter=\";\", encoding=\"ANSI\")\n",
    "kd2013 = pd.read_csv(\"podatki/kd2013.csv\", delimiter=\";\", encoding=\"ANSI\")\n",
    "kd2014 = pd.read_csv(\"podatki/kd2014.csv\", delimiter=\";\", encoding=\"ANSI\")\n",
    "kd2015 = pd.read_csv(\"podatki/kd2015.csv\", delimiter=\";\", encoding=\"ANSI\")\n",
    "kd2016 = pd.read_csv(\"podatki/kd2016.csv\", delimiter=\";\", encoding=\"ANSI\")\n",
    "kd2017 = pd.read_csv(\"podatki/kd2017.csv\", delimiter=\";\", encoding=\"ANSI\")\n",
    "kd2018 = pd.read_csv(\"podatki/kd2018.csv\", delimiter=\";\", encoding=\"ANSI\")\n",
    "kd2019 = pd.read_csv(\"podatki/kd2019.csv\", delimiter=\";\", encoding=\"ANSI\")\n",
    "kd = pd.concat([kd2010, kd2011, kd2012, kd2013, kd2014, kd2015, kd2016, kd2017, kd2018, kd2019], ignore_index=True)\n",
    "kd = kd.drop(\"ZaporednaStevilkaKD\", axis=\"columns\")"
   ]
  },
  {
   "cell_type": "code",
   "execution_count": 30,
   "metadata": {},
   "outputs": [
    {
     "data": {
      "text/plain": [
       "MesecStoritve                 float64\n",
       "UraStoritve                    object\n",
       "DanVTednu                      object\n",
       "PUStoritveKD                   object\n",
       "Povratnik                      object\n",
       "OpisKD                         object\n",
       "PoglavjeKD                     object\n",
       "GospodarskiKriminal            object\n",
       "OrganiziranKriminal            object\n",
       "MladoletniskaKriminaliteta     object\n",
       "Poskus                         object\n",
       "KriminalisticnaOznacba1        object\n",
       "KriminalisticnaOznacba2        object\n",
       "KriminalisticnaOznacba3        object\n",
       "UporabljenoSredstvo1           object\n",
       "UporabljenoSredstvo2           object\n",
       "UporabljenoSredstvo3           object\n",
       "UporabljenoSredstvo4           object\n",
       "UpravnaEnotaStoritve           object\n",
       "OpisKraja                      object\n",
       "LetoZakljucnegaDokumenta        int64\n",
       "VrstaZakljucnegaDokumenta      object\n",
       "ZaporednaStevilkaOsebeVKD     float64\n",
       "VrstaOsebe                     object\n",
       "StarostniRazred                object\n",
       "Spol                           object\n",
       "Drzavljanstvo                  object\n",
       "Poskodba                       object\n",
       "VplivAlkohola                  object\n",
       "VplivMamil                     object\n",
       "OrganiziranaZdruzba            object\n",
       "Skoda                          object\n",
       "dtype: object"
      ]
     },
     "execution_count": 30,
     "metadata": {},
     "output_type": "execute_result"
    }
   ],
   "source": [
    "kd.dtypes"
   ]
  }
 ],
 "metadata": {
  "kernelspec": {
   "display_name": "Python 3",
   "language": "python",
   "name": "python3"
  },
  "language_info": {
   "codemirror_mode": {
    "name": "ipython",
    "version": 3
   },
   "file_extension": ".py",
   "mimetype": "text/x-python",
   "name": "python",
   "nbconvert_exporter": "python",
   "pygments_lexer": "ipython3",
   "version": "3.11.0"
  },
  "orig_nbformat": 4,
  "vscode": {
   "interpreter": {
    "hash": "e4f7dc6f9bcf4234741c94f1608f9e2d1c0c12564f781ec46f7167eb217eb86e"
   }
  }
 },
 "nbformat": 4,
 "nbformat_minor": 2
}
