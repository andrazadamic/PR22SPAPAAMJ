{
 "cells": [
  {
   "attachments": {},
   "cell_type": "markdown",
   "metadata": {},
   "source": [
    "# Stopnja kriminala v Sloveniji po letih v korelaciji z ostalimi podatki\n",
    "\n",
    "Podatkovno Rudarjenje, 2022/23\n",
    "\n",
    "**Sašo Primožič, Ambrož Perovšek, Andraž Adamič, Matija Ječnik**"
   ]
  },
  {
   "cell_type": "code",
   "execution_count": 1,
   "metadata": {
    "ExecuteTime": {
     "end_time": "2023-04-18T07:39:18.484805Z",
     "start_time": "2023-04-18T07:39:18.467244Z"
    }
   },
   "outputs": [],
   "source": [
    "import pandas as pd"
   ]
  },
  {
   "cell_type": "code",
   "execution_count": 2,
   "metadata": {
    "ExecuteTime": {
     "end_time": "2023-04-18T07:54:58.518591Z",
     "start_time": "2023-04-18T07:54:48.552947Z"
    }
   },
   "outputs": [
    {
     "name": "stderr",
     "output_type": "stream",
     "text": [
      "/var/folders/br/95vqnhjn3db21qqd2rk3lt3r0000gn/T/ipykernel_67104/443199150.py:4: DtypeWarning: Columns (14) have mixed types. Specify dtype option on import or set low_memory=False.\n",
      "  kd2013 = pd.read_csv(\"podatki/kd2013.csv\", delimiter=\";\", encoding=\"latin-1\", dtype={'MesecStoritve': str})\n",
      "/var/folders/br/95vqnhjn3db21qqd2rk3lt3r0000gn/T/ipykernel_67104/443199150.py:7: DtypeWarning: Columns (14,18) have mixed types. Specify dtype option on import or set low_memory=False.\n",
      "  kd2016 = pd.read_csv(\"podatki/kd2016.csv\", delimiter=\";\", encoding=\"latin-1\", dtype={'MesecStoritve': str})\n"
     ]
    }
   ],
   "source": [
    "kd2010 = pd.read_csv(\"podatki/kd2010.csv\", delimiter=\";\", encoding=\"latin-1\", dtype={'MesecStoritve': str})\n",
    "kd2011 = pd.read_csv(\"podatki/kd2011.csv\", delimiter=\";\", encoding=\"latin-1\", dtype={'MesecStoritve': str})\n",
    "kd2012 = pd.read_csv(\"podatki/kd2012.csv\", delimiter=\";\", encoding=\"latin-1\", dtype={'MesecStoritve': str})\n",
    "kd2013 = pd.read_csv(\"podatki/kd2013.csv\", delimiter=\";\", encoding=\"latin-1\", dtype={'MesecStoritve': str})\n",
    "kd2014 = pd.read_csv(\"podatki/kd2014.csv\", delimiter=\";\", encoding=\"latin-1\", dtype={'MesecStoritve': str})\n",
    "kd2015 = pd.read_csv(\"podatki/kd2015.csv\", delimiter=\";\", encoding=\"latin-1\", dtype={'MesecStoritve': str})\n",
    "kd2016 = pd.read_csv(\"podatki/kd2016.csv\", delimiter=\";\", encoding=\"latin-1\", dtype={'MesecStoritve': str})\n",
    "kd2017 = pd.read_csv(\"podatki/kd2017.csv\", delimiter=\";\", encoding=\"latin-1\", dtype={'MesecStoritve': str})\n",
    "kd2018 = pd.read_csv(\"podatki/kd2018.csv\", delimiter=\";\", encoding=\"latin-1\", dtype={'MesecStoritve': str})\n",
    "kd2019 = pd.read_csv(\"podatki/kd2019.csv\", delimiter=\";\", encoding=\"latin-1\", dtype={'MesecStoritve': str})\n",
    "kd = pd.concat([kd2010, kd2011, kd2012, kd2013, kd2014, kd2015, kd2016, kd2017, kd2018, kd2019], ignore_index=True)\n",
    "# kd = kd.drop(\"ZaporednaStevilkaKD\", axis=\"columns\")"
   ]
  },
  {
   "cell_type": "code",
   "execution_count": 3,
   "metadata": {
    "ExecuteTime": {
     "end_time": "2023-04-18T07:56:31.486678Z",
     "start_time": "2023-04-18T07:56:31.239729Z"
    }
   },
   "outputs": [],
   "source": [
    "kd['MesecStoritve'] = pd.to_datetime(kd['MesecStoritve'], format='%m.%Y', exact=True)\n",
    "kd = kd.rename(columns={'MesecStoritve': 'datumStoritve'})\n",
    "kd.sort_values(by='datumStoritve', inplace=True)\n",
    "kd.reset_index(drop=True, inplace=True)"
   ]
  },
  {
   "cell_type": "code",
   "execution_count": 4,
   "metadata": {
    "ExecuteTime": {
     "end_time": "2023-04-18T07:56:50.831126Z",
     "start_time": "2023-04-18T07:56:49.828526Z"
    },
    "collapsed": false
   },
   "outputs": [],
   "source": [
    "# print(kd[1:10])"
   ]
  }
 ],
 "metadata": {
  "kernelspec": {
   "display_name": "Python 3",
   "language": "python",
   "name": "python3"
  },
  "language_info": {
   "codemirror_mode": {
    "name": "ipython",
    "version": 3
   },
   "file_extension": ".py",
   "mimetype": "text/x-python",
   "name": "python",
   "nbconvert_exporter": "python",
   "pygments_lexer": "ipython3",
   "version": "3.11.0"
  },
  "orig_nbformat": 4,
  "vscode": {
   "interpreter": {
    "hash": "e4f7dc6f9bcf4234741c94f1608f9e2d1c0c12564f781ec46f7167eb217eb86e"
   }
  }
 },
 "nbformat": 4,
 "nbformat_minor": 2
}
