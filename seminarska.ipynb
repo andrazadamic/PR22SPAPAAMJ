{
 "cells": [
  {
   "attachments": {},
   "cell_type": "markdown",
   "metadata": {},
   "source": [
    "# Stopnja kriminala v Sloveniji po letih v korelaciji z ostalimi podatki\n",
    "\n",
    "Podatkovno Rudarjenje, 2022/23\n",
    "\n",
    "**Sašo Primožič, Ambrož Perovšek, Andraž Adamič, Matija Ječnik**"
   ]
  },
  {
   "cell_type": "code",
   "execution_count": 1,
   "metadata": {
    "ExecuteTime": {
     "end_time": "2023-04-18T07:39:18.484805Z",
     "start_time": "2023-04-18T07:39:18.467244Z"
    }
   },
   "outputs": [],
   "source": [
    "import pandas as pd"
   ]
  },
  {
   "cell_type": "code",
   "execution_count": 2,
   "metadata": {
    "ExecuteTime": {
     "end_time": "2023-04-18T07:54:58.518591Z",
     "start_time": "2023-04-18T07:54:48.552947Z"
    }
   },
   "outputs": [
    {
     "name": "stderr",
     "output_type": "stream",
     "text": [
      "/var/folders/br/95vqnhjn3db21qqd2rk3lt3r0000gn/T/ipykernel_65806/3349067189.py:4: DtypeWarning: Columns (14) have mixed types. Specify dtype option on import or set low_memory=False.\n",
      "  kd2013 = pd.read_csv(\"podatki/kd2013.csv\", delimiter=\";\", encoding=\"latin-1\", dtype={'MesecStoritve': str})\n",
      "/var/folders/br/95vqnhjn3db21qqd2rk3lt3r0000gn/T/ipykernel_65806/3349067189.py:7: DtypeWarning: Columns (14,18) have mixed types. Specify dtype option on import or set low_memory=False.\n",
      "  kd2016 = pd.read_csv(\"podatki/kd2016.csv\", delimiter=\";\", encoding=\"latin-1\", dtype={'MesecStoritve': str})\n"
     ]
    }
   ],
   "source": [
    "kd2010 = pd.read_csv(\"podatki/kd2010.csv\", delimiter=\";\", encoding=\"latin-1\", dtype={'MesecStoritve': str})\n",
    "kd2011 = pd.read_csv(\"podatki/kd2011.csv\", delimiter=\";\", encoding=\"latin-1\", dtype={'MesecStoritve': str})\n",
    "kd2012 = pd.read_csv(\"podatki/kd2012.csv\", delimiter=\";\", encoding=\"latin-1\", dtype={'MesecStoritve': str})\n",
    "kd2013 = pd.read_csv(\"podatki/kd2013.csv\", delimiter=\";\", encoding=\"latin-1\", dtype={'MesecStoritve': str})\n",
    "kd2014 = pd.read_csv(\"podatki/kd2014.csv\", delimiter=\";\", encoding=\"latin-1\", dtype={'MesecStoritve': str})\n",
    "kd2015 = pd.read_csv(\"podatki/kd2015.csv\", delimiter=\";\", encoding=\"latin-1\", dtype={'MesecStoritve': str})\n",
    "kd2016 = pd.read_csv(\"podatki/kd2016.csv\", delimiter=\";\", encoding=\"latin-1\", dtype={'MesecStoritve': str})\n",
    "kd2017 = pd.read_csv(\"podatki/kd2017.csv\", delimiter=\";\", encoding=\"latin-1\", dtype={'MesecStoritve': str})\n",
    "kd2018 = pd.read_csv(\"podatki/kd2018.csv\", delimiter=\";\", encoding=\"latin-1\", dtype={'MesecStoritve': str})\n",
    "kd2019 = pd.read_csv(\"podatki/kd2019.csv\", delimiter=\";\", encoding=\"latin-1\", dtype={'MesecStoritve': str})\n",
    "kd = pd.concat([kd2010, kd2011, kd2012, kd2013, kd2014, kd2015, kd2016, kd2017, kd2018, kd2019], ignore_index=True)\n",
    "kd = kd.drop(\"ZaporednaStevilkaKD\", axis=\"columns\")"
   ]
  },
  {
   "cell_type": "code",
   "execution_count": 3,
   "metadata": {
    "ExecuteTime": {
     "end_time": "2023-04-18T07:56:31.486678Z",
     "start_time": "2023-04-18T07:56:31.239729Z"
    }
   },
   "outputs": [],
   "source": [
    "kd['MesecStoritve'] = pd.to_datetime(kd['MesecStoritve'], format='%m.%Y', exact=True)\n",
    "\n",
    "kd.sort_values(by='MesecStoritve', inplace=True)\n",
    "kd.reset_index(drop=True, inplace=True)\n"
   ]
  },
  {
   "cell_type": "code",
   "execution_count": 5,
   "metadata": {
    "ExecuteTime": {
     "end_time": "2023-04-18T07:56:50.831126Z",
     "start_time": "2023-04-18T07:56:49.828526Z"
    },
    "collapsed": false
   },
   "outputs": [
    {
     "data": {
      "text/html": [
       "<div>\n",
       "<style scoped>\n",
       "    .dataframe tbody tr th:only-of-type {\n",
       "        vertical-align: middle;\n",
       "    }\n",
       "\n",
       "    .dataframe tbody tr th {\n",
       "        vertical-align: top;\n",
       "    }\n",
       "\n",
       "    .dataframe thead th {\n",
       "        text-align: right;\n",
       "    }\n",
       "</style>\n",
       "<table border=\"1\" class=\"dataframe\">\n",
       "  <thead>\n",
       "    <tr style=\"text-align: right;\">\n",
       "      <th></th>\n",
       "      <th>MesecStoritve</th>\n",
       "      <th>UraStoritve</th>\n",
       "      <th>DanVTednu</th>\n",
       "      <th>PUStoritveKD</th>\n",
       "      <th>Povratnik</th>\n",
       "      <th>OpisKD</th>\n",
       "      <th>PoglavjeKD</th>\n",
       "      <th>GospodarskiKriminal</th>\n",
       "      <th>OrganiziranKriminal</th>\n",
       "      <th>MladoletniskaKriminaliteta</th>\n",
       "      <th>...</th>\n",
       "      <th>ZaporednaStevilkaOsebeVKD</th>\n",
       "      <th>VrstaOsebe</th>\n",
       "      <th>StarostniRazred</th>\n",
       "      <th>Spol</th>\n",
       "      <th>Drzavljanstvo</th>\n",
       "      <th>Poskodba</th>\n",
       "      <th>VplivAlkohola</th>\n",
       "      <th>VplivMamil</th>\n",
       "      <th>OrganiziranaZdruzba</th>\n",
       "      <th>Skoda</th>\n",
       "    </tr>\n",
       "  </thead>\n",
       "  <tbody>\n",
       "    <tr>\n",
       "      <th>0</th>\n",
       "      <td>1942-09-01</td>\n",
       "      <td>23:00-23:59</td>\n",
       "      <td>SREDA</td>\n",
       "      <td>PU LJUBLJANA</td>\n",
       "      <td>NE</td>\n",
       "      <td>KZ12/102*/1/2/ - VOJNA HUDODELSTVA</td>\n",
       "      <td>KD ZOPER ÈLOVEÈNOST</td>\n",
       "      <td>SPLONA</td>\n",
       "      <td></td>\n",
       "      <td></td>\n",
       "      <td>...</td>\n",
       "      <td>NaN</td>\n",
       "      <td>NaN</td>\n",
       "      <td>NaN</td>\n",
       "      <td>NaN</td>\n",
       "      <td>NaN</td>\n",
       "      <td>NaN</td>\n",
       "      <td>NaN</td>\n",
       "      <td>NaN</td>\n",
       "      <td>NaN</td>\n",
       "      <td>NaN</td>\n",
       "    </tr>\n",
       "    <tr>\n",
       "      <th>1</th>\n",
       "      <td>1944-01-01</td>\n",
       "      <td>00:00-00:59</td>\n",
       "      <td>TOREK</td>\n",
       "      <td>PU KRANJ</td>\n",
       "      <td>NE</td>\n",
       "      <td>KZ08/101-/1// - HUDODELSTVA ZOPER ÈLOVEÈNOST</td>\n",
       "      <td>KD ZOPER ÈLOVEÈNOST</td>\n",
       "      <td>SPLONA</td>\n",
       "      <td></td>\n",
       "      <td></td>\n",
       "      <td>...</td>\n",
       "      <td>NaN</td>\n",
       "      <td>NaN</td>\n",
       "      <td>NaN</td>\n",
       "      <td>NaN</td>\n",
       "      <td>NaN</td>\n",
       "      <td>NaN</td>\n",
       "      <td>NaN</td>\n",
       "      <td>NaN</td>\n",
       "      <td>NaN</td>\n",
       "      <td>NaN</td>\n",
       "    </tr>\n",
       "    <tr>\n",
       "      <th>2</th>\n",
       "      <td>1945-05-01</td>\n",
       "      <td>00:00-00:59</td>\n",
       "      <td>SREDA</td>\n",
       "      <td>GPU</td>\n",
       "      <td>NE</td>\n",
       "      <td>KZ12/102*/1/1/ - VOJNA HUDODELSTVA</td>\n",
       "      <td>KD ZOPER ÈLOVEÈNOST</td>\n",
       "      <td>SPLONA</td>\n",
       "      <td></td>\n",
       "      <td></td>\n",
       "      <td>...</td>\n",
       "      <td>12875003.0</td>\n",
       "      <td>OSTALO</td>\n",
       "      <td>24-34</td>\n",
       "      <td>MOKI</td>\n",
       "      <td>SLOVENSKO</td>\n",
       "      <td>NaN</td>\n",
       "      <td>NE</td>\n",
       "      <td>NE</td>\n",
       "      <td>NE</td>\n",
       "      <td>BREZ</td>\n",
       "    </tr>\n",
       "    <tr>\n",
       "      <th>3</th>\n",
       "      <td>1945-05-01</td>\n",
       "      <td>00:00-00:59</td>\n",
       "      <td>SREDA</td>\n",
       "      <td>GPU</td>\n",
       "      <td>NE</td>\n",
       "      <td>KZ12/102*/1/1/ - VOJNA HUDODELSTVA</td>\n",
       "      <td>KD ZOPER ÈLOVEÈNOST</td>\n",
       "      <td>SPLONA</td>\n",
       "      <td></td>\n",
       "      <td></td>\n",
       "      <td>...</td>\n",
       "      <td>12875001.0</td>\n",
       "      <td>OSTALO</td>\n",
       "      <td>00-07</td>\n",
       "      <td>MOKI</td>\n",
       "      <td>SLOVENSKO</td>\n",
       "      <td>NaN</td>\n",
       "      <td>NE</td>\n",
       "      <td>NE</td>\n",
       "      <td>NE</td>\n",
       "      <td>BREZ</td>\n",
       "    </tr>\n",
       "    <tr>\n",
       "      <th>4</th>\n",
       "      <td>1945-05-01</td>\n",
       "      <td>23:00-23:59</td>\n",
       "      <td>ÈETRTEK</td>\n",
       "      <td>PU CELJE</td>\n",
       "      <td>NE</td>\n",
       "      <td>KZ12/102*/1/1/ - VOJNA HUDODELSTVA</td>\n",
       "      <td>KD ZOPER ÈLOVEÈNOST</td>\n",
       "      <td>SPLONA</td>\n",
       "      <td></td>\n",
       "      <td></td>\n",
       "      <td>...</td>\n",
       "      <td>57244001.0</td>\n",
       "      <td>OVADENI OSUMLJENEC</td>\n",
       "      <td>18-24</td>\n",
       "      <td>MOKI</td>\n",
       "      <td>SLOVENSKO</td>\n",
       "      <td>NaN</td>\n",
       "      <td>NE</td>\n",
       "      <td>NE</td>\n",
       "      <td>NE</td>\n",
       "      <td>BREZ</td>\n",
       "    </tr>\n",
       "  </tbody>\n",
       "</table>\n",
       "<p>5 rows × 32 columns</p>\n",
       "</div>"
      ],
      "text/plain": [
       "  MesecStoritve  UraStoritve DanVTednu  PUStoritveKD Povratnik  \\\n",
       "0    1942-09-01  23:00-23:59     SREDA  PU LJUBLJANA        NE   \n",
       "1    1944-01-01  00:00-00:59     TOREK      PU KRANJ        NE   \n",
       "2    1945-05-01  00:00-00:59     SREDA           GPU        NE   \n",
       "3    1945-05-01  00:00-00:59     SREDA           GPU        NE   \n",
       "4    1945-05-01  23:00-23:59   ÈETRTEK      PU CELJE        NE   \n",
       "\n",
       "                                         OpisKD           PoglavjeKD  \\\n",
       "0            KZ12/102*/1/2/ - VOJNA HUDODELSTVA  KD ZOPER ÈLOVEÈNOST   \n",
       "1  KZ08/101-/1// - HUDODELSTVA ZOPER ÈLOVEÈNOST  KD ZOPER ÈLOVEÈNOST   \n",
       "2            KZ12/102*/1/1/ - VOJNA HUDODELSTVA  KD ZOPER ÈLOVEÈNOST   \n",
       "3            KZ12/102*/1/1/ - VOJNA HUDODELSTVA  KD ZOPER ÈLOVEÈNOST   \n",
       "4            KZ12/102*/1/1/ - VOJNA HUDODELSTVA  KD ZOPER ÈLOVEÈNOST   \n",
       "\n",
       "  GospodarskiKriminal OrganiziranKriminal MladoletniskaKriminaliteta  ...  \\\n",
       "0             SPLONA                                                 ...   \n",
       "1             SPLONA                                                 ...   \n",
       "2             SPLONA                                                 ...   \n",
       "3             SPLONA                                                 ...   \n",
       "4             SPLONA                                                 ...   \n",
       "\n",
       "  ZaporednaStevilkaOsebeVKD          VrstaOsebe StarostniRazred   Spol  \\\n",
       "0                       NaN                 NaN             NaN    NaN   \n",
       "1                       NaN                 NaN             NaN    NaN   \n",
       "2                12875003.0              OSTALO           24-34  MOKI   \n",
       "3                12875001.0              OSTALO           00-07  MOKI   \n",
       "4                57244001.0  OVADENI OSUMLJENEC           18-24  MOKI   \n",
       "\n",
       "  Drzavljanstvo Poskodba VplivAlkohola VplivMamil OrganiziranaZdruzba Skoda  \n",
       "0           NaN      NaN           NaN        NaN                 NaN   NaN  \n",
       "1           NaN      NaN           NaN        NaN                 NaN   NaN  \n",
       "2     SLOVENSKO      NaN            NE         NE                  NE  BREZ  \n",
       "3     SLOVENSKO      NaN            NE         NE                  NE  BREZ  \n",
       "4     SLOVENSKO      NaN            NE         NE                  NE  BREZ  \n",
       "\n",
       "[5 rows x 32 columns]"
      ]
     },
     "execution_count": 5,
     "metadata": {},
     "output_type": "execute_result"
    }
   ],
   "source": [
    "# print(kd[1:10])\n",
    "kd.head()"
   ]
  }
 ],
 "metadata": {
  "kernelspec": {
   "display_name": "Python 3",
   "language": "python",
   "name": "python3"
  },
  "language_info": {
   "codemirror_mode": {
    "name": "ipython",
    "version": 3
   },
   "file_extension": ".py",
   "mimetype": "text/x-python",
   "name": "python",
   "nbconvert_exporter": "python",
   "pygments_lexer": "ipython3",
   "version": "3.11.0"
  },
  "orig_nbformat": 4,
  "vscode": {
   "interpreter": {
    "hash": "e4f7dc6f9bcf4234741c94f1608f9e2d1c0c12564f781ec46f7167eb217eb86e"
   }
  }
 },
 "nbformat": 4,
 "nbformat_minor": 2
}
